{
 "cells": [
  {
   "cell_type": "code",
   "execution_count": 4,
   "id": "839b0ae9",
   "metadata": {},
   "outputs": [
    {
     "name": "stdout",
     "output_type": "stream",
     "text": [
      "*** Справку по командам можно вызвать через ENTER или командой help ***\n",
      "Введите команду: current_dir\n",
      "C:\\Users\\o8930\\Untitled Folder\n",
      "Введите команду: exit\n"
     ]
    }
   ],
   "source": [
    "import functions\n",
    "\n",
    "print('*** Справку по командам можно вызвать через ENTER или командой help ***')\n",
    "while True:\n",
    "    command = input('Введите команду: ')\n",
    "    command = command.split(' ')\n",
    "    if command[0] == 'exit':\n",
    "        break\n",
    "\n",
    "    elif command[0] == 'help' or command[0] == '':\n",
    "        functions.help()\n",
    "\n",
    "    elif command[0] == 'current_dir':\n",
    "        functions.current_dir()\n",
    "\n",
    "    elif command[0] == 'create_folder':\n",
    "        functions.create_folder(command[1])\n",
    "\n",
    "    elif command[0] == 'del_folder':\n",
    "        functions.del_folder(command[1])\n",
    "\n",
    "    elif command[0] == 'change_dir':\n",
    "        try:\n",
    "            write_dir = input(\"Введите директорию: \").split('/')\n",
    "            write_dir = '\\\\'.join(write_dir)\n",
    "            func.change_dir(write_dir)\n",
    "        except:\n",
    "            print('в формате C:/name/name2')\n",
    "\n",
    "    elif command[0] == 'change_dir_up':\n",
    "        functions.change_dir_up()\n",
    "\n",
    "    elif command[0] == 'make_file':\n",
    "        functions.make_file(command[1])\n",
    "\n",
    "    elif command[0] == 'write_file':\n",
    "        contentWrap = input(\"Введите текст: \")\n",
    "        functions.write_file(command[1], contentWrap)\n",
    "\n",
    "    elif command[0] == 'read_file':\n",
    "        functions.read_file(command[1])\n",
    "\n",
    "    elif command[0] == 'del_file':\n",
    "        functions.del_file(command[1])\n",
    "\n",
    "    elif command[0] == 'copy_file':\n",
    "        functions.copy_file(command[1], command[2])\n",
    "\n",
    "    elif command[0] == 'move_file':\n",
    "        functions.move_file(command[1], command[2])\n",
    "\n",
    "    elif command[0] == 'rename_file':\n",
    "        functions.rename_file(command[1], command[2])\n",
    "\n",
    "    else:\n",
    "        print('Такой команды нет. Попробуйте еще раз или воспользуйтесь справкой команд (help)')"
   ]
  }
 ],
 "metadata": {
  "kernelspec": {
   "display_name": "Python 3 (ipykernel)",
   "language": "python",
   "name": "python3"
  },
  "language_info": {
   "codemirror_mode": {
    "name": "ipython",
    "version": 3
   },
   "file_extension": ".py",
   "mimetype": "text/x-python",
   "name": "python",
   "nbconvert_exporter": "python",
   "pygments_lexer": "ipython3",
   "version": "3.9.7"
  }
 },
 "nbformat": 4,
 "nbformat_minor": 5
}
